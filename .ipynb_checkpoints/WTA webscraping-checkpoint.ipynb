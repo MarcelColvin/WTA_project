{
 "cells": [
  {
   "cell_type": "code",
   "execution_count": 1,
   "id": "71438749",
   "metadata": {},
   "outputs": [],
   "source": [
    "from selenium import webdriver\n",
    "from selenium.webdriver.common.keys import Keys\n",
    "from selenium.webdriver.common.by import By\n",
    "import time\n",
    "import pandas as pd"
   ]
  },
  {
   "cell_type": "code",
   "execution_count": 2,
   "id": "7d7fe26b",
   "metadata": {},
   "outputs": [],
   "source": [
    "driver = webdriver.Chrome(\"chromedriver\")\n",
    "driver.get(\"https://www.wta.org/go-outside/hikes\")"
   ]
  },
  {
   "cell_type": "code",
   "execution_count": 3,
   "id": "8934b94f",
   "metadata": {},
   "outputs": [
    {
     "ename": "NoSuchElementException",
     "evalue": "Message: no such element: Unable to locate element: {\"method\":\"css selector\",\"selector\":\".next\"}\n  (Session info: chrome=102.0.5005.61)\nStacktrace:\n#0 0x562684e0af33 <unknown>\n#1 0x562684b55118 <unknown>\n#2 0x562684b8b3f7 <unknown>\n#3 0x562684b8b5c1 <unknown>\n#4 0x562684bbe5c4 <unknown>\n#5 0x562684ba8f9d <unknown>\n#6 0x562684bbc2e4 <unknown>\n#7 0x562684ba8e63 <unknown>\n#8 0x562684b7e82a <unknown>\n#9 0x562684b7f985 <unknown>\n#10 0x562684e4f4cd <unknown>\n#11 0x562684e535ec <unknown>\n#12 0x562684e3971e <unknown>\n#13 0x562684e54238 <unknown>\n#14 0x562684e2e870 <unknown>\n#15 0x562684e70608 <unknown>\n#16 0x562684e70788 <unknown>\n#17 0x562684e8af1d <unknown>\n#18 0x7f0fa98e4609 <unknown>\n",
     "output_type": "error",
     "traceback": [
      "\u001b[0;31m---------------------------------------------------------------------------\u001b[0m",
      "\u001b[0;31mNoSuchElementException\u001b[0m                    Traceback (most recent call last)",
      "\u001b[0;32m/tmp/ipykernel_7649/1466633896.py\u001b[0m in \u001b[0;36m<module>\u001b[0;34m\u001b[0m\n\u001b[1;32m     58\u001b[0m     \u001b[0mhikes_df\u001b[0m \u001b[0;34m=\u001b[0m \u001b[0mhikes_df\u001b[0m\u001b[0;34m.\u001b[0m\u001b[0mappend\u001b[0m\u001b[0;34m(\u001b[0m\u001b[0mtmp_df\u001b[0m\u001b[0;34m)\u001b[0m\u001b[0;34m\u001b[0m\u001b[0;34m\u001b[0m\u001b[0m\n\u001b[1;32m     59\u001b[0m \u001b[0;34m\u001b[0m\u001b[0m\n\u001b[0;32m---> 60\u001b[0;31m     \u001b[0melm\u001b[0m \u001b[0;34m=\u001b[0m \u001b[0mdriver\u001b[0m\u001b[0;34m.\u001b[0m\u001b[0mfind_element\u001b[0m\u001b[0;34m(\u001b[0m\u001b[0mBy\u001b[0m\u001b[0;34m.\u001b[0m\u001b[0mCLASS_NAME\u001b[0m\u001b[0;34m,\u001b[0m\u001b[0;34m'next'\u001b[0m\u001b[0;34m)\u001b[0m\u001b[0;34m\u001b[0m\u001b[0;34m\u001b[0m\u001b[0m\n\u001b[0m\u001b[1;32m     61\u001b[0m     \u001b[0;32mif\u001b[0m \u001b[0;34m'inactive'\u001b[0m \u001b[0;32min\u001b[0m \u001b[0melm\u001b[0m\u001b[0;34m.\u001b[0m\u001b[0mget_attribute\u001b[0m\u001b[0;34m(\u001b[0m\u001b[0;34m'class'\u001b[0m\u001b[0;34m)\u001b[0m\u001b[0;34m:\u001b[0m\u001b[0;34m\u001b[0m\u001b[0;34m\u001b[0m\u001b[0m\n\u001b[1;32m     62\u001b[0m         \u001b[0;32mbreak\u001b[0m\u001b[0;34m;\u001b[0m\u001b[0;34m\u001b[0m\u001b[0;34m\u001b[0m\u001b[0m\n",
      "\u001b[0;32m~/anaconda3/lib/python3.8/site-packages/selenium/webdriver/remote/webdriver.py\u001b[0m in \u001b[0;36mfind_element\u001b[0;34m(self, by, value)\u001b[0m\n\u001b[1;32m   1249\u001b[0m             \u001b[0mvalue\u001b[0m \u001b[0;34m=\u001b[0m \u001b[0;34m'[name=\"%s\"]'\u001b[0m \u001b[0;34m%\u001b[0m \u001b[0mvalue\u001b[0m\u001b[0;34m\u001b[0m\u001b[0;34m\u001b[0m\u001b[0m\n\u001b[1;32m   1250\u001b[0m \u001b[0;34m\u001b[0m\u001b[0m\n\u001b[0;32m-> 1251\u001b[0;31m         return self.execute(Command.FIND_ELEMENT, {\n\u001b[0m\u001b[1;32m   1252\u001b[0m             \u001b[0;34m'using'\u001b[0m\u001b[0;34m:\u001b[0m \u001b[0mby\u001b[0m\u001b[0;34m,\u001b[0m\u001b[0;34m\u001b[0m\u001b[0;34m\u001b[0m\u001b[0m\n\u001b[1;32m   1253\u001b[0m             'value': value})['value']\n",
      "\u001b[0;32m~/anaconda3/lib/python3.8/site-packages/selenium/webdriver/remote/webdriver.py\u001b[0m in \u001b[0;36mexecute\u001b[0;34m(self, driver_command, params)\u001b[0m\n\u001b[1;32m    428\u001b[0m         \u001b[0mresponse\u001b[0m \u001b[0;34m=\u001b[0m \u001b[0mself\u001b[0m\u001b[0;34m.\u001b[0m\u001b[0mcommand_executor\u001b[0m\u001b[0;34m.\u001b[0m\u001b[0mexecute\u001b[0m\u001b[0;34m(\u001b[0m\u001b[0mdriver_command\u001b[0m\u001b[0;34m,\u001b[0m \u001b[0mparams\u001b[0m\u001b[0;34m)\u001b[0m\u001b[0;34m\u001b[0m\u001b[0;34m\u001b[0m\u001b[0m\n\u001b[1;32m    429\u001b[0m         \u001b[0;32mif\u001b[0m \u001b[0mresponse\u001b[0m\u001b[0;34m:\u001b[0m\u001b[0;34m\u001b[0m\u001b[0;34m\u001b[0m\u001b[0m\n\u001b[0;32m--> 430\u001b[0;31m             \u001b[0mself\u001b[0m\u001b[0;34m.\u001b[0m\u001b[0merror_handler\u001b[0m\u001b[0;34m.\u001b[0m\u001b[0mcheck_response\u001b[0m\u001b[0;34m(\u001b[0m\u001b[0mresponse\u001b[0m\u001b[0;34m)\u001b[0m\u001b[0;34m\u001b[0m\u001b[0;34m\u001b[0m\u001b[0m\n\u001b[0m\u001b[1;32m    431\u001b[0m             response['value'] = self._unwrap_value(\n\u001b[1;32m    432\u001b[0m                 response.get('value', None))\n",
      "\u001b[0;32m~/anaconda3/lib/python3.8/site-packages/selenium/webdriver/remote/errorhandler.py\u001b[0m in \u001b[0;36mcheck_response\u001b[0;34m(self, response)\u001b[0m\n\u001b[1;32m    245\u001b[0m                 \u001b[0malert_text\u001b[0m \u001b[0;34m=\u001b[0m \u001b[0mvalue\u001b[0m\u001b[0;34m[\u001b[0m\u001b[0;34m'alert'\u001b[0m\u001b[0;34m]\u001b[0m\u001b[0;34m.\u001b[0m\u001b[0mget\u001b[0m\u001b[0;34m(\u001b[0m\u001b[0;34m'text'\u001b[0m\u001b[0;34m)\u001b[0m\u001b[0;34m\u001b[0m\u001b[0;34m\u001b[0m\u001b[0m\n\u001b[1;32m    246\u001b[0m             \u001b[0;32mraise\u001b[0m \u001b[0mexception_class\u001b[0m\u001b[0;34m(\u001b[0m\u001b[0mmessage\u001b[0m\u001b[0;34m,\u001b[0m \u001b[0mscreen\u001b[0m\u001b[0;34m,\u001b[0m \u001b[0mstacktrace\u001b[0m\u001b[0;34m,\u001b[0m \u001b[0malert_text\u001b[0m\u001b[0;34m)\u001b[0m  \u001b[0;31m# type: ignore[call-arg]  # mypy is not smart enough here\u001b[0m\u001b[0;34m\u001b[0m\u001b[0;34m\u001b[0m\u001b[0m\n\u001b[0;32m--> 247\u001b[0;31m         \u001b[0;32mraise\u001b[0m \u001b[0mexception_class\u001b[0m\u001b[0;34m(\u001b[0m\u001b[0mmessage\u001b[0m\u001b[0;34m,\u001b[0m \u001b[0mscreen\u001b[0m\u001b[0;34m,\u001b[0m \u001b[0mstacktrace\u001b[0m\u001b[0;34m)\u001b[0m\u001b[0;34m\u001b[0m\u001b[0;34m\u001b[0m\u001b[0m\n\u001b[0m\u001b[1;32m    248\u001b[0m \u001b[0;34m\u001b[0m\u001b[0m\n\u001b[1;32m    249\u001b[0m     \u001b[0;32mdef\u001b[0m \u001b[0m_value_or_default\u001b[0m\u001b[0;34m(\u001b[0m\u001b[0mself\u001b[0m\u001b[0;34m,\u001b[0m \u001b[0mobj\u001b[0m\u001b[0;34m:\u001b[0m \u001b[0mMapping\u001b[0m\u001b[0;34m[\u001b[0m\u001b[0m_KT\u001b[0m\u001b[0;34m,\u001b[0m \u001b[0m_VT\u001b[0m\u001b[0;34m]\u001b[0m\u001b[0;34m,\u001b[0m \u001b[0mkey\u001b[0m\u001b[0;34m:\u001b[0m \u001b[0m_KT\u001b[0m\u001b[0;34m,\u001b[0m \u001b[0mdefault\u001b[0m\u001b[0;34m:\u001b[0m \u001b[0m_VT\u001b[0m\u001b[0;34m)\u001b[0m \u001b[0;34m->\u001b[0m \u001b[0m_VT\u001b[0m\u001b[0;34m:\u001b[0m\u001b[0;34m\u001b[0m\u001b[0;34m\u001b[0m\u001b[0m\n",
      "\u001b[0;31mNoSuchElementException\u001b[0m: Message: no such element: Unable to locate element: {\"method\":\"css selector\",\"selector\":\".next\"}\n  (Session info: chrome=102.0.5005.61)\nStacktrace:\n#0 0x562684e0af33 <unknown>\n#1 0x562684b55118 <unknown>\n#2 0x562684b8b3f7 <unknown>\n#3 0x562684b8b5c1 <unknown>\n#4 0x562684bbe5c4 <unknown>\n#5 0x562684ba8f9d <unknown>\n#6 0x562684bbc2e4 <unknown>\n#7 0x562684ba8e63 <unknown>\n#8 0x562684b7e82a <unknown>\n#9 0x562684b7f985 <unknown>\n#10 0x562684e4f4cd <unknown>\n#11 0x562684e535ec <unknown>\n#12 0x562684e3971e <unknown>\n#13 0x562684e54238 <unknown>\n#14 0x562684e2e870 <unknown>\n#15 0x562684e70608 <unknown>\n#16 0x562684e70788 <unknown>\n#17 0x562684e8af1d <unknown>\n#18 0x7f0fa98e4609 <unknown>\n"
     ]
    }
   ],
   "source": [
    "hikes_df = pd.DataFrame()\n",
    "while True:\n",
    "    tmp_df = pd.DataFrame()\n",
    "    elements = driver.find_elements(By.CLASS_NAME, \"search-result-item\")\n",
    "    feats = driver.find_elements(By.CLASS_NAME, \"trip-features\")\n",
    "    for e in elements:\n",
    "        try:\n",
    "            hike = e.find_element(By.CLASS_NAME, \"listitem-title\").text\n",
    "        except: \n",
    "            hike = None\n",
    "        try:\n",
    "            region = e.find_element(By.CLASS_NAME, \"region\").text\n",
    "        except: \n",
    "            region = None\n",
    "        try:\n",
    "            length= e.find_element(By.CLASS_NAME, \"hike-length\").text\n",
    "        except: \n",
    "            length = None\n",
    "        try:\n",
    "            gain = e.find_element(By.CLASS_NAME, \"hike-gain\").text\n",
    "        except: \n",
    "            gain = None\n",
    "        try:\n",
    "            highpoint = e.find_element(By.CLASS_NAME, \"hike-highpoint\").text\n",
    "        except: \n",
    "            highpoint = None\n",
    "        try:\n",
    "            rating = e.find_element(By.CLASS_NAME, \"current-rating\").text\n",
    "        except: \n",
    "            rating = None\n",
    "        try:\n",
    "            num_rating = e.find_element(By.CLASS_NAME, \"rating-count\").text\n",
    "        except: \n",
    "            num_rating = None\n",
    "        try:\n",
    "            summary = e.find_element(By.CLASS_NAME, \"listing-summary\").text\n",
    "        except: \n",
    "            summary = None\n",
    "        \n",
    "        a = pd.DataFrame({\"Hike\": hike ,\n",
    "                         \"Region\": region,\n",
    "                          \"Length\": length,\n",
    "                          \"gain\": gain,\n",
    "                          \"highpoint\": highpoint,\n",
    "                          \"rating\": rating,\n",
    "                          \"rating_count\":num_rating,\n",
    "                          \"summary\": summary,\n",
    "                             \"feats\": \"\"}, index = [0])\n",
    "        tmp_df = tmp_df.append(a)\n",
    "    tmp_df = tmp_df.reset_index(drop=True)\n",
    "    \n",
    "    for i in range(0, len(feats)):\n",
    "        g = feats[i].find_elements(By.TAG_NAME, \"img\")\n",
    "        b = []\n",
    "        for x in g:\n",
    "            b.append(x.get_attribute(\"title\"))\n",
    "        tmp_df.at[i, \"feats\"] = b\n",
    "    hikes_df = hikes_df.append(tmp_df)\n",
    "        \n",
    "    elm = driver.find_element(By.CLASS_NAME,'next')\n",
    "    if 'inactive' in elm.get_attribute('class'):\n",
    "        break;\n",
    "    time.sleep(5)\n",
    "    elm.click()"
   ]
  },
  {
   "cell_type": "code",
   "execution_count": 5,
   "id": "387bebc1",
   "metadata": {},
   "outputs": [],
   "source": [
    "hikes_df.to_csv(\"hikes_df.csv\")"
   ]
  },
  {
   "cell_type": "code",
   "execution_count": null,
   "id": "874a636e",
   "metadata": {},
   "outputs": [],
   "source": []
  }
 ],
 "metadata": {
  "kernelspec": {
   "display_name": "Python 3 (ipykernel)",
   "language": "python",
   "name": "python3"
  },
  "language_info": {
   "codemirror_mode": {
    "name": "ipython",
    "version": 3
   },
   "file_extension": ".py",
   "mimetype": "text/x-python",
   "name": "python",
   "nbconvert_exporter": "python",
   "pygments_lexer": "ipython3",
   "version": "3.8.12"
  }
 },
 "nbformat": 4,
 "nbformat_minor": 5
}
